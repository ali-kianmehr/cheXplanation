{
 "cells": [
  {
   "cell_type": "code",
   "execution_count": 1,
   "metadata": {},
   "outputs": [],
   "source": [
    "# per pathology \n",
    "# mIoU ~ AUC, # instances # area"
   ]
  },
  {
   "cell_type": "code",
   "execution_count": 15,
   "metadata": {},
   "outputs": [],
   "source": [
    "%load_ext autoreload\n",
    "%autoreload 2"
   ]
  },
  {
   "cell_type": "code",
   "execution_count": 1,
   "metadata": {},
   "outputs": [],
   "source": [
    "import glob\n",
    "import json\n",
    "import pickle\n",
    "import matplotlib.pyplot as plt\n",
    "import numpy as np\n",
    "import pandas as pd\n",
    "from pycocotools import mask\n",
    "import statsmodels.api as sm\n",
    "import statsmodels.formula.api as smf\n",
    "# from eval_helper import iou_seg\n",
    "import seaborn as sns\n",
    "from eval_constants import *\n",
    "from scipy import stats\n",
    "from eval_constants import *\n",
    "np.set_printoptions(precision=3)"
   ]
  },
  {
   "cell_type": "code",
   "execution_count": 2,
   "metadata": {},
   "outputs": [],
   "source": [
    "group_dir = '/deep/group/aihc-bootcamp-spring2020/localize'\n",
    "output_path = f'{group_dir}/eval_results/regression'"
   ]
  },
  {
   "cell_type": "code",
   "execution_count": 3,
   "metadata": {},
   "outputs": [],
   "source": [
    "# read vietnam iou\n",
    "vietnam_dir = f'/deep/group/aihc-bootcamp-spring2020/localize/eval_results/human'\n",
    "vietnam_iou = pd.read_csv((f'{vietnam_dir}/test_human_ioua_all.csv'))\n",
    "\n",
    "# read gradcam iou\n",
    "phase = 'test'\n",
    "model = 'ensemble'\n",
    "method = 'gradcam'\n",
    "iou = pd.read_csv(f'{group_dir}/eval_results/{method}/{phase}_{method}_{model}_merged_iou_prob_threshold.csv')\n",
    "\n",
    "# pt game vietnam and gradcam\n",
    "pt_vietnam_df = pd.read_csv((f'{group_dir}/eval_results/human/pt_vietnam.csv'),index_col = False)\n",
    "pt_gradcam = pd.read_csv(f'{group_dir}/eval_results/gradcam/Pointing_game_gradcam_new.csv')\n",
    "\n",
    "# read geometric features\n",
    "group_dir = '/deep/group/aihc-bootcamp-spring2020/localize'\n",
    "regression_path = f'{group_dir}/eval_results/regression'\n",
    "\n",
    "instance_df = pd.read_csv(f'{regression_path}/num_instances_test.csv').drop(['img_id'],axis=1)\n",
    "areas_df = pd.read_csv(f'{regression_path}/area_ratio_test.csv').drop(['img_id'],axis=1)\n",
    "elongation_df = pd.read_csv('elogation.csv').drop(['img_id','Unnamed: 0'],axis=1)\n",
    "rec_area_ratio_df = pd.read_csv('rec_area_ratio.csv').drop(['img_id','Unnamed: 0'],axis=1)\n",
    "rec_area_ratio_df = 1-rec_area_ratio_df\n",
    "confidence_df = pd.read_csv(f\"{group_dir}/annotations/difficulty.csv\")\n",
    "# read probabitlies \n",
    "probs_df = pd.read_csv(f'{group_dir}/eval_results/prob.csv')"
   ]
  },
  {
   "cell_type": "code",
   "execution_count": 5,
   "metadata": {},
   "outputs": [],
   "source": [
    "# create regression dataframe \n",
    "\n",
    "for task in sorted(LOCALIZATION_TASKS):\n",
    "\n",
    "    df = pd.DataFrame()\n",
    "    \n",
    "    data = {'iou':iou[task].values,\n",
    "            'human_iou':vietnam_iou[task].values,\n",
    "            'iou_diff': vietnam_iou[task].values - iou[task].values,\n",
    "            'gradcam_pt': pt_gradcam[task].values,\n",
    "            'human_pt': pt_vietnam_df[task].values,\n",
    "            'pt_diff':  pt_vietnam_df[task].values - pt_gradcam[task].values ,\n",
    "            'n_instance': instance_df[task].tolist(),\n",
    "            'area_ratio':areas_df[task].tolist(),\n",
    "            'elongation': elongation_df[task].tolist(),\n",
    "            'rec_area_ratio': rec_area_ratio_df[task].tolist(),\n",
    "            'difficulty': confidence_df[task].tolist(),\n",
    "            'prob': probs_df[task].tolist()\n",
    "           }\n",
    "    df = pd.DataFrame(data) \n",
    "    df = df[df.n_instance>0]\n",
    "        \n",
    "    df.to_csv(f'{regression_path}/regression_{task}.csv', index = False)"
   ]
  },
  {
   "cell_type": "code",
   "execution_count": 4,
   "metadata": {},
   "outputs": [],
   "source": [
    "def normalize(column):\n",
    "    if column.min() == column.max():\n",
    "        return column\n",
    "    \n",
    "    return (column-column.min())/(column.max()-column.min())"
   ]
  },
  {
   "cell_type": "code",
   "execution_count": 5,
   "metadata": {},
   "outputs": [],
   "source": [
    "def standardize(column):\n",
    "    if column.min() == column.max():\n",
    "        return column\n",
    "    \n",
    "    return (column-column.mean())/(column.std())"
   ]
  },
  {
   "cell_type": "code",
   "execution_count": 6,
   "metadata": {},
   "outputs": [
    {
     "name": "stdout",
     "output_type": "stream",
     "text": [
      "Enlarged Cardiomediastinum\n",
      "Cardiomegaly\n"
     ]
    },
    {
     "name": "stderr",
     "output_type": "stream",
     "text": [
      "/sailhome/xgui/deep/u/xgui/envs/chexpert-baseline/lib/python3.7/site-packages/numpy/lib/function_base.py:2534: RuntimeWarning: invalid value encountered in true_divide\n",
      "  c /= stddev[:, None]\n",
      "/sailhome/xgui/deep/u/xgui/envs/chexpert-baseline/lib/python3.7/site-packages/numpy/lib/function_base.py:2535: RuntimeWarning: invalid value encountered in true_divide\n",
      "  c /= stddev[None, :]\n",
      "/sailhome/xgui/deep/u/xgui/envs/chexpert-baseline/lib/python3.7/site-packages/scipy/stats/_distn_infrastructure.py:903: RuntimeWarning: invalid value encountered in greater\n",
      "  return (a < x) & (x < b)\n",
      "/sailhome/xgui/deep/u/xgui/envs/chexpert-baseline/lib/python3.7/site-packages/scipy/stats/_distn_infrastructure.py:903: RuntimeWarning: invalid value encountered in less\n",
      "  return (a < x) & (x < b)\n",
      "/sailhome/xgui/deep/u/xgui/envs/chexpert-baseline/lib/python3.7/site-packages/scipy/stats/_distn_infrastructure.py:1912: RuntimeWarning: invalid value encountered in less_equal\n",
      "  cond2 = cond0 & (x <= _a)\n"
     ]
    },
    {
     "name": "stdout",
     "output_type": "stream",
     "text": [
      "Lung Lesion\n",
      "Airspace Opacity\n",
      "Edema\n",
      "Consolidation\n",
      "Atelectasis\n",
      "Pneumothorax\n",
      "Pleural Effusion\n",
      "Support Devices\n"
     ]
    }
   ],
   "source": [
    "coef_summary = pd.DataFrame(columns = [\"lower\",\"upper\",\"mean\",\"coef_pval\",\"corr\",\"corr_pval\",\"feature\",\"task\"])\n",
    "y = 'gradcam_pt'\n",
    "\n",
    "features = ['n_instance','area_ratio','elongation','rec_area_ratio']\n",
    "\n",
    "for task in LOCALIZATION_TASKS:\n",
    "    print(task)\n",
    "    regression_df = pd.read_csv(f'{regression_path}/regression_{task}.csv')\n",
    "    for feature in features:\n",
    "        # normalize feature\n",
    "        regression_df[feature] = standardize(regression_df[feature])\n",
    "\n",
    "        # run regression\n",
    "        est = smf.ols(f\"{y} ~ {feature}\", data = regression_df)\n",
    "        est2 = est.fit()\n",
    "        ci = est2.conf_int(alpha=0.05, cols=None)  # get ci \n",
    "        lower,upper = ci.loc[feature]\n",
    "        mean = est2.params.loc[feature]\n",
    "        pval = est2.pvalues.loc[feature]\n",
    "        corr, corr_pval = stats.spearmanr(regression_df[y].values,regression_df[feature].values,nan_policy = 'omit')\n",
    "#         corr = regression_df[y].corr(regression_df[feature], method='spearman')\n",
    "\n",
    "        # append to dataframe\n",
    "        coef_summary = coef_summary.append({'lower': lower,\n",
    "                                            'upper': upper,\n",
    "                                            'mean': mean,\n",
    "                                            'coef_pval': pval,\n",
    "                                            'corr_pval': corr_pval,\n",
    "                                            'corr': corr,\n",
    "                                            'n': len(regression_df),\n",
    "                                            'feature': feature,\n",
    "                                            'task': task},ignore_index=True)\n",
    "        \n",
    "\n",
    "# coef_summary.to_csv(f'tables/regression_{y}.csv')"
   ]
  },
  {
   "cell_type": "code",
   "execution_count": 12,
   "metadata": {},
   "outputs": [],
   "source": [
    "coef_summary.to_csv('reg_coef_by_task.csv')"
   ]
  },
  {
   "cell_type": "code",
   "execution_count": 77,
   "metadata": {},
   "outputs": [],
   "source": [
    "import math\n",
    "overall_regression = pd.DataFrame()\n",
    "for task in sorted(LOCALIZATION_TASKS):\n",
    "    df_method = pd.read_csv(f'{regression_path}/regression_{task}.csv')\n",
    "    df_method['task'] = task\n",
    "    overall_regression = overall_regression.append(df_method)\n",
    "# overall_regression.to_csv(f'{regression_path}/overall_regression.csv', index = False)"
   ]
  },
  {
   "cell_type": "code",
   "execution_count": 83,
   "metadata": {},
   "outputs": [
    {
     "name": "stdout",
     "output_type": "stream",
     "text": [
      "      lower     upper      mean     coef_pval      corr     corr_pval  \\\n",
      "0 -0.354719 -0.005816 -0.180267  4.284446e-02 -0.053575  3.589209e-02   \n",
      "1 -0.232618 -0.069936 -0.151277  2.731488e-04 -0.110067  1.556560e-05   \n",
      "2  0.321013  0.563137  0.442075  1.223488e-12  0.140358  3.386706e-08   \n",
      "3  0.216055  0.340601  0.278328  4.781228e-18  0.211363  5.948039e-17   \n",
      "\n",
      "   corr_lower  corr_upper         feature  \n",
      "0   -0.103348   -0.003535      n_instance  \n",
      "1   -0.159240   -0.060349      area_ratio  \n",
      "2    0.090947    0.189080      elongation  \n",
      "3    0.163038    0.258677  rec_area_ratio  \n"
     ]
    }
   ],
   "source": [
    "overall_coef = pd.DataFrame(columns = [\"lower\",\"upper\",\"mean\",\"coef_pval\",\"corr\",\"corr_pval\",\"corr_lower\",\"corr_upper\",\"feature\"])\n",
    "y = 'iou_diff'\n",
    "features = ['n_instance','area_ratio','elongation','rec_area_ratio']\n",
    "\n",
    "for feature in features:\n",
    "    # normalize feature\n",
    "    overall_regression[feature] = normalize(overall_regression[feature])\n",
    "\n",
    "    # run regression\n",
    "    est = smf.ols(f\"{y} ~ {feature}\", data = overall_regression)\n",
    "    est2 = est.fit()\n",
    "    ci = est2.conf_int(alpha=0.05, cols=None)  # get ci \n",
    "    lower,upper = ci.loc[feature]\n",
    "    mean = est2.params.loc[feature]\n",
    "#     corr = overall_regression[y].corr(overall_regression[feature], method='spearman')\n",
    "    pval = est2.pvalues.loc[feature]\n",
    "    corr, corr_pval = stats.spearmanr(overall_regression[feature].values,overall_regression[y].values)\n",
    "    \n",
    "    n = len(overall_regression)\n",
    "    stderr = 1.0 / math.sqrt(n - 3)\n",
    "    delta = 1.96 * stderr\n",
    "    lower_r = math.tanh(math.atanh(corr) - delta)\n",
    "    upper_r = math.tanh(math.atanh(corr) + delta)\n",
    "    # append to dataframe\n",
    "    overall_coef = overall_coef.append({'lower': lower,\n",
    "                                        'upper': upper,\n",
    "                                        'mean': mean,\n",
    "                                        'coef_pval': pval,\n",
    "                                        'corr': corr,\n",
    "                                        'corr_pval': corr_pval,\n",
    "                                        'corr_lower': lower_r,\n",
    "                                        'corr_upper': upper_r,\n",
    "                                        'feature': feature},ignore_index=True)\n",
    "print(overall_coef)\n",
    "overall_coef.to_csv(f'tables_final/{y}_coef_overall.csv')"
   ]
  },
  {
   "cell_type": "code",
   "execution_count": 44,
   "metadata": {},
   "outputs": [
    {
     "name": "stdout",
     "output_type": "stream",
     "text": [
      "elongation\n"
     ]
    }
   ],
   "source": [
    "feature = features[2]\n",
    "print(feature)\n",
    "overall_regression[feature] = normalize(overall_regression[feature])\n",
    "\n",
    "# run regression\n",
    "est = smf.ols(f\"{y} ~ {feature}\", data = overall_regression)\n",
    "est2 = est.fit()\n",
    "preds = est2.predict()\n",
    "df_results = pd.DataFrame({'Actual': overall_regression[y], 'Predicted': preds})\n",
    "df_results['Residuals'] = abs(df_results['Actual']) - abs(df_results['Predicted'])"
   ]
  },
  {
   "cell_type": "code",
   "execution_count": 55,
   "metadata": {},
   "outputs": [
    {
     "data": {
      "text/plain": [
       "<matplotlib.collections.PathCollection at 0x7f246c83ff10>"
      ]
     },
     "execution_count": 55,
     "metadata": {},
     "output_type": "execute_result"
    },
    {
     "data": {
      "image/png": "[encoded data removed]",
      "text/plain": [
       "<Figure size 432x288 with 1 Axes>"
      ]
     },
     "metadata": {
      "needs_background": "light"
     },
     "output_type": "display_data"
    }
   ],
   "source": [
    "task = LOCALIZATION_TASKS[9]\n",
    "regression_df = pd.read_csv(f'{regression_path}/regression_{task}.csv')\n",
    "plt.scatter(regression_df[feature],regression_df[y])"
   ]
  },
  {
   "cell_type": "code",
   "execution_count": 38,
   "metadata": {},
   "outputs": [
    {
     "name": "stdout",
     "output_type": "stream",
     "text": [
      "\n",
      "=======================================================================================\n",
      "Assumption 1: Linear Relationship between the Target and the Features\n",
      "Checking with a scatter plot of actual vs. predicted. Predictions should follow the diagonal line.\n"
     ]
    },
    {
     "name": "stderr",
     "output_type": "stream",
     "text": [
      "/sailhome/xgui/deep/u/xgui/envs/chexpert-baseline/lib/python3.7/site-packages/seaborn/regression.py:573: UserWarning: The `size` parameter has been renamed to `height`; please update your code.\n",
      "  warnings.warn(msg, UserWarning)\n"
     ]
    },
    {
     "data": {
      "image/png": "[encoded data removed]",
      "text/plain": [
       "<Figure size 504x504 with 1 Axes>"
      ]
     },
     "metadata": {
      "needs_background": "light"
     },
     "output_type": "display_data"
    },
    {
     "name": "stdout",
     "output_type": "stream",
     "text": [
      "If non-linearity is apparent, consider adding a polynomial term\n",
      "\n",
      "=======================================================================================\n",
      "Assumption 2: The error terms are normally distributed\n",
      "\n",
      "Using the Anderson-Darling test for normal distribution\n",
      "p-value from the test - below 0.05 generally means non-normal: 6.014457732151579e-16\n",
      "Residuals are not normally distributed\n"
     ]
    },
    {
     "data": {
      "image/png": "[encoded data removed]",
      "text/plain": [
       "<Figure size 864x432 with 1 Axes>"
      ]
     },
     "metadata": {
      "needs_background": "light"
     },
     "output_type": "display_data"
    },
    {
     "name": "stdout",
     "output_type": "stream",
     "text": [
      "\n",
      "Assumption not satisfied\n",
      "\n",
      "Confidence intervals will likely be affected\n",
      "Try performing nonlinear transformations on variables\n",
      "\n",
      "=======================================================================================\n",
      "Assumption 4: No Autocorrelation\n",
      "\n",
      "Performing Durbin-Watson Test\n",
      "Values of 1.5 < d < 2.5 generally show that there is no autocorrelation in the data\n",
      "0 to 2< is positive autocorrelation\n",
      ">2 to 4 is negative autocorrelation\n",
      "-------------------------------------\n",
      "Durbin-Watson: 1.7349786444031159\n",
      "Little to no autocorrelation \n",
      "\n",
      "Assumption satisfied\n",
      "\n",
      "=======================================================================================\n",
      "Assumption 5: Homoscedasticity of Error Terms\n",
      "Residuals should have relative constant variance\n"
     ]
    },
    {
     "data": {
      "image/png": "[encoded data removed]",
      "text/plain": [
       "<Figure size 864x432 with 1 Axes>"
      ]
     },
     "metadata": {
      "needs_background": "light"
     },
     "output_type": "display_data"
    },
    {
     "name": "stdout",
     "output_type": "stream",
     "text": [
      "If heteroscedasticity is apparent, confidence intervals and predictions will be affected\n"
     ]
    }
   ],
   "source": [
    "from assumptions_check import *\n",
    "linear_assumption(df_results)\n",
    "normal_errors_assumption(df_results)\n",
    "# multicollinearity_assumption()\n",
    "autocorrelation_assumption(df_results)\n",
    "homoscedasticity_assumption(df_results)"
   ]
  },
  {
   "cell_type": "code",
   "execution_count": 21,
   "metadata": {},
   "outputs": [],
   "source": [
    "overall_coef.round(3).to_csv(\"tables/human_pt_coef_overall.csv\")"
   ]
  },
  {
   "cell_type": "markdown",
   "metadata": {},
   "source": [
    "### Regression on Probability"
   ]
  },
  {
   "cell_type": "code",
   "execution_count": 29,
   "metadata": {},
   "outputs": [
    {
     "data": {
      "text/html": [
       "<div>\n",
       "<style scoped>\n",
       "    .dataframe tbody tr th:only-of-type {\n",
       "        vertical-align: middle;\n",
       "    }\n",
       "\n",
       "    .dataframe tbody tr th {\n",
       "        vertical-align: top;\n",
       "    }\n",
       "\n",
       "    .dataframe thead th {\n",
       "        text-align: right;\n",
       "    }\n",
       "</style>\n",
       "<table border=\"1\" class=\"dataframe\">\n",
       "  <thead>\n",
       "    <tr style=\"text-align: right;\">\n",
       "      <th></th>\n",
       "      <th>lower</th>\n",
       "      <th>upper</th>\n",
       "      <th>mean</th>\n",
       "      <th>coef_pval</th>\n",
       "      <th>corr</th>\n",
       "      <th>corr_pval</th>\n",
       "      <th>feature</th>\n",
       "    </tr>\n",
       "  </thead>\n",
       "  <tbody>\n",
       "    <tr>\n",
       "      <th>0</th>\n",
       "      <td>0.030595</td>\n",
       "      <td>0.219479</td>\n",
       "      <td>0.125037</td>\n",
       "      <td>9.495926e-03</td>\n",
       "      <td>0.063851</td>\n",
       "      <td>0.911024</td>\n",
       "      <td>difficulty</td>\n",
       "    </tr>\n",
       "    <tr>\n",
       "      <th>1</th>\n",
       "      <td>-1.307028</td>\n",
       "      <td>-0.714032</td>\n",
       "      <td>-1.010530</td>\n",
       "      <td>3.219130e-11</td>\n",
       "      <td>-0.165435</td>\n",
       "      <td>0.276871</td>\n",
       "      <td>n_instance</td>\n",
       "    </tr>\n",
       "    <tr>\n",
       "      <th>2</th>\n",
       "      <td>0.981659</td>\n",
       "      <td>1.240028</td>\n",
       "      <td>1.110844</td>\n",
       "      <td>1.111863e-58</td>\n",
       "      <td>0.408794</td>\n",
       "      <td>0.361419</td>\n",
       "      <td>area_ratio</td>\n",
       "    </tr>\n",
       "    <tr>\n",
       "      <th>3</th>\n",
       "      <td>-1.049714</td>\n",
       "      <td>-0.634363</td>\n",
       "      <td>-0.842038</td>\n",
       "      <td>3.503033e-15</td>\n",
       "      <td>-0.163746</td>\n",
       "      <td>0.099856</td>\n",
       "      <td>elongation</td>\n",
       "    </tr>\n",
       "    <tr>\n",
       "      <th>4</th>\n",
       "      <td>-0.642267</td>\n",
       "      <td>-0.429157</td>\n",
       "      <td>-0.535712</td>\n",
       "      <td>2.768960e-22</td>\n",
       "      <td>-0.192051</td>\n",
       "      <td>0.540695</td>\n",
       "      <td>rec_area_ratio</td>\n",
       "    </tr>\n",
       "  </tbody>\n",
       "</table>\n",
       "</div>"
      ],
      "text/plain": [
       "      lower     upper      mean     coef_pval      corr  corr_pval  \\\n",
       "0  0.030595  0.219479  0.125037  9.495926e-03  0.063851   0.911024   \n",
       "1 -1.307028 -0.714032 -1.010530  3.219130e-11 -0.165435   0.276871   \n",
       "2  0.981659  1.240028  1.110844  1.111863e-58  0.408794   0.361419   \n",
       "3 -1.049714 -0.634363 -0.842038  3.503033e-15 -0.163746   0.099856   \n",
       "4 -0.642267 -0.429157 -0.535712  2.768960e-22 -0.192051   0.540695   \n",
       "\n",
       "          feature  \n",
       "0      difficulty  \n",
       "1      n_instance  \n",
       "2      area_ratio  \n",
       "3      elongation  \n",
       "4  rec_area_ratio  "
      ]
     },
     "execution_count": 29,
     "metadata": {},
     "output_type": "execute_result"
    }
   ],
   "source": [
    "overall_coef"
   ]
  },
  {
   "cell_type": "code",
   "execution_count": 108,
   "metadata": {},
   "outputs": [],
   "source": [
    "for task in sorted(LOCALIZATION_TASKS):\n",
    "    df = pd.DataFrame()\n",
    "    \n",
    "    data = {'iou':iou[task].values,\n",
    "            'pt': pt_gradcam[task].values,\n",
    "            'prob': probs_df[task].tolist()\n",
    "           }\n",
    "    df = pd.DataFrame(data) \n",
    "    df = df[df.iou>-1]\n",
    "        \n",
    "    df.to_csv(f'{regression_path}/regression_prob_{task}.csv', index = False)"
   ]
  },
  {
   "cell_type": "code",
   "execution_count": 73,
   "metadata": {},
   "outputs": [
    {
     "data": {
      "text/html": [
       "<div>\n",
       "<style scoped>\n",
       "    .dataframe tbody tr th:only-of-type {\n",
       "        vertical-align: middle;\n",
       "    }\n",
       "\n",
       "    .dataframe tbody tr th {\n",
       "        vertical-align: top;\n",
       "    }\n",
       "\n",
       "    .dataframe thead th {\n",
       "        text-align: right;\n",
       "    }\n",
       "</style>\n",
       "<table border=\"1\" class=\"dataframe\">\n",
       "  <thead>\n",
       "    <tr style=\"text-align: right;\">\n",
       "      <th></th>\n",
       "      <th>Airspace Opacity</th>\n",
       "      <th>Atelectasis</th>\n",
       "      <th>Cardiomegaly</th>\n",
       "      <th>Consolidation</th>\n",
       "      <th>Edema</th>\n",
       "      <th>Enlarged Cardiomediastinum</th>\n",
       "      <th>Lung Lesion</th>\n",
       "      <th>Pleural Effusion</th>\n",
       "      <th>Pneumothorax</th>\n",
       "      <th>Support Devices</th>\n",
       "    </tr>\n",
       "  </thead>\n",
       "  <tbody>\n",
       "    <tr>\n",
       "      <th>count</th>\n",
       "      <td>381.000000</td>\n",
       "      <td>296.000000</td>\n",
       "      <td>229.000000</td>\n",
       "      <td>120.000000</td>\n",
       "      <td>124.000000</td>\n",
       "      <td>668.000000</td>\n",
       "      <td>50.000000</td>\n",
       "      <td>159.000000</td>\n",
       "      <td>11.000000</td>\n",
       "      <td>327.000000</td>\n",
       "    </tr>\n",
       "    <tr>\n",
       "      <th>mean</th>\n",
       "      <td>0.192792</td>\n",
       "      <td>0.144632</td>\n",
       "      <td>0.276150</td>\n",
       "      <td>0.087344</td>\n",
       "      <td>0.174317</td>\n",
       "      <td>0.168751</td>\n",
       "      <td>0.027214</td>\n",
       "      <td>0.157548</td>\n",
       "      <td>0.125245</td>\n",
       "      <td>0.142708</td>\n",
       "    </tr>\n",
       "    <tr>\n",
       "      <th>std</th>\n",
       "      <td>0.182429</td>\n",
       "      <td>0.166890</td>\n",
       "      <td>0.260783</td>\n",
       "      <td>0.185545</td>\n",
       "      <td>0.206641</td>\n",
       "      <td>0.218174</td>\n",
       "      <td>0.068903</td>\n",
       "      <td>0.180373</td>\n",
       "      <td>0.136617</td>\n",
       "      <td>0.092345</td>\n",
       "    </tr>\n",
       "    <tr>\n",
       "      <th>min</th>\n",
       "      <td>0.000000</td>\n",
       "      <td>0.000000</td>\n",
       "      <td>0.000000</td>\n",
       "      <td>0.000000</td>\n",
       "      <td>0.000000</td>\n",
       "      <td>0.000000</td>\n",
       "      <td>0.000000</td>\n",
       "      <td>0.000000</td>\n",
       "      <td>0.000000</td>\n",
       "      <td>0.000000</td>\n",
       "    </tr>\n",
       "    <tr>\n",
       "      <th>25%</th>\n",
       "      <td>0.000000</td>\n",
       "      <td>0.000000</td>\n",
       "      <td>0.000000</td>\n",
       "      <td>0.000000</td>\n",
       "      <td>0.000000</td>\n",
       "      <td>0.000000</td>\n",
       "      <td>0.000000</td>\n",
       "      <td>0.000000</td>\n",
       "      <td>0.000000</td>\n",
       "      <td>0.094873</td>\n",
       "    </tr>\n",
       "    <tr>\n",
       "      <th>50%</th>\n",
       "      <td>0.177769</td>\n",
       "      <td>0.060922</td>\n",
       "      <td>0.343475</td>\n",
       "      <td>0.000000</td>\n",
       "      <td>0.000000</td>\n",
       "      <td>0.000000</td>\n",
       "      <td>0.000000</td>\n",
       "      <td>0.091621</td>\n",
       "      <td>0.080243</td>\n",
       "      <td>0.137904</td>\n",
       "    </tr>\n",
       "    <tr>\n",
       "      <th>75%</th>\n",
       "      <td>0.339432</td>\n",
       "      <td>0.270177</td>\n",
       "      <td>0.498283</td>\n",
       "      <td>0.000000</td>\n",
       "      <td>0.364922</td>\n",
       "      <td>0.364307</td>\n",
       "      <td>0.000000</td>\n",
       "      <td>0.278672</td>\n",
       "      <td>0.228878</td>\n",
       "      <td>0.194682</td>\n",
       "    </tr>\n",
       "    <tr>\n",
       "      <th>max</th>\n",
       "      <td>0.676121</td>\n",
       "      <td>0.601912</td>\n",
       "      <td>0.774007</td>\n",
       "      <td>0.641519</td>\n",
       "      <td>0.632902</td>\n",
       "      <td>0.792309</td>\n",
       "      <td>0.280265</td>\n",
       "      <td>0.713100</td>\n",
       "      <td>0.350111</td>\n",
       "      <td>0.466935</td>\n",
       "    </tr>\n",
       "  </tbody>\n",
       "</table>\n",
       "</div>"
      ],
      "text/plain": [
       "       Airspace Opacity  Atelectasis  Cardiomegaly  Consolidation       Edema  \\\n",
       "count        381.000000   296.000000    229.000000     120.000000  124.000000   \n",
       "mean           0.192792     0.144632      0.276150       0.087344    0.174317   \n",
       "std            0.182429     0.166890      0.260783       0.185545    0.206641   \n",
       "min            0.000000     0.000000      0.000000       0.000000    0.000000   \n",
       "25%            0.000000     0.000000      0.000000       0.000000    0.000000   \n",
       "50%            0.177769     0.060922      0.343475       0.000000    0.000000   \n",
       "75%            0.339432     0.270177      0.498283       0.000000    0.364922   \n",
       "max            0.676121     0.601912      0.774007       0.641519    0.632902   \n",
       "\n",
       "       Enlarged Cardiomediastinum  Lung Lesion  Pleural Effusion  \\\n",
       "count                  668.000000    50.000000        159.000000   \n",
       "mean                     0.168751     0.027214          0.157548   \n",
       "std                      0.218174     0.068903          0.180373   \n",
       "min                      0.000000     0.000000          0.000000   \n",
       "25%                      0.000000     0.000000          0.000000   \n",
       "50%                      0.000000     0.000000          0.091621   \n",
       "75%                      0.364307     0.000000          0.278672   \n",
       "max                      0.792309     0.280265          0.713100   \n",
       "\n",
       "       Pneumothorax  Support Devices  \n",
       "count     11.000000       327.000000  \n",
       "mean       0.125245         0.142708  \n",
       "std        0.136617         0.092345  \n",
       "min        0.000000         0.000000  \n",
       "25%        0.000000         0.094873  \n",
       "50%        0.080243         0.137904  \n",
       "75%        0.228878         0.194682  \n",
       "max        0.350111         0.466935  "
      ]
     },
     "execution_count": 73,
     "metadata": {},
     "output_type": "execute_result"
    }
   ],
   "source": [
    "iou.describe()"
   ]
  },
  {
   "cell_type": "code",
   "execution_count": 84,
   "metadata": {},
   "outputs": [],
   "source": [
    "overall_prob_regression = pd.DataFrame()\n",
    "for task in sorted(LOCALIZATION_TASKS):\n",
    "    df_method = pd.read_csv(f'{regression_path}/regression_prob_{task}.csv')\n",
    "    df_method['task'] = task\n",
    "    overall_prob_regression = overall_prob_regression.append(df_method)\n",
    "overall_prob_regression.to_csv(f'{regression_path}/overall_prob_regression.csv', index = False)"
   ]
  },
  {
   "cell_type": "code",
   "execution_count": 131,
   "metadata": {},
   "outputs": [
    {
     "data": {
      "text/plain": [
       "2365"
      ]
     },
     "execution_count": 131,
     "metadata": {},
     "output_type": "execute_result"
    }
   ],
   "source": [
    "len(overall_prob_regression)"
   ]
  },
  {
   "cell_type": "code",
   "execution_count": 93,
   "metadata": {},
   "outputs": [],
   "source": [
    "overall_coef = pd.DataFrame(columns = [\"lower\",\"upper\",\"mean\",\"coef_pval\",\"corr\",\"corr_pval\",\"corr_lower\",\"corr_upper\",\"task\",'n'])\n",
    "y = 'pt'\n",
    "feature = 'prob'\n",
    "\n",
    "# overall_prob_regression[feature] = normalize(overall_prob_regression[feature])\n",
    "\n",
    "# run regression\n",
    "est = smf.ols(f\"{y} ~ {feature}\", data = overall_prob_regression)\n",
    "est2 = est.fit()\n",
    "ci = est2.conf_int(alpha=0.05, cols=None)  # get ci \n",
    "lower,upper = ci.loc[feature]\n",
    "mean = est2.params.loc[feature]\n",
    "pval = est2.pvalues.loc[feature]\n",
    "corr, corr_pval = stats.spearmanr(overall_prob_regression[feature].values,overall_prob_regression[y].values,nan_policy = 'omit')\n",
    "n = len(overall_regression)\n",
    "stderr = 1.0 / math.sqrt(n - 3)\n",
    "delta = 1.96 * stderr\n",
    "lower_r = math.tanh(math.atanh(corr) - delta)\n",
    "upper_r = math.tanh(math.atanh(corr) + delta)\n",
    "# append to dataframe\n",
    "overall_coef = overall_coef.append({'lower': lower,\n",
    "                                    'upper': upper,\n",
    "                                    'mean': mean,\n",
    "                                    'coef_pval': pval,\n",
    "                                    'corr': corr,\n",
    "                                    'corr_pval': corr_pval,\n",
    "                                    'corr_lower': lower_r,\n",
    "                                    'corr_upper':upper_r,\n",
    "                                    'task': \"Overall\",\n",
    "                                   'n': len(overall_prob_regression)},ignore_index=True)\n",
    "overall_coef.to_csv(f'tables/overall_regression_prob_{y}.csv')"
   ]
  },
  {
   "cell_type": "code",
   "execution_count": 133,
   "metadata": {},
   "outputs": [
    {
     "data": {
      "text/html": [
       "<div>\n",
       "<style scoped>\n",
       "    .dataframe tbody tr th:only-of-type {\n",
       "        vertical-align: middle;\n",
       "    }\n",
       "\n",
       "    .dataframe tbody tr th {\n",
       "        vertical-align: top;\n",
       "    }\n",
       "\n",
       "    .dataframe thead th {\n",
       "        text-align: right;\n",
       "    }\n",
       "</style>\n",
       "<table border=\"1\" class=\"dataframe\">\n",
       "  <thead>\n",
       "    <tr style=\"text-align: right;\">\n",
       "      <th></th>\n",
       "      <th>lower</th>\n",
       "      <th>upper</th>\n",
       "      <th>mean</th>\n",
       "      <th>coef_pval</th>\n",
       "      <th>corr</th>\n",
       "      <th>corr_pval</th>\n",
       "      <th>task</th>\n",
       "      <th>n</th>\n",
       "    </tr>\n",
       "  </thead>\n",
       "  <tbody>\n",
       "    <tr>\n",
       "      <th>0</th>\n",
       "      <td>0.083</td>\n",
       "      <td>0.135</td>\n",
       "      <td>0.109</td>\n",
       "      <td>0.0</td>\n",
       "      <td>0.285</td>\n",
       "      <td>0.0</td>\n",
       "      <td>Overall</td>\n",
       "      <td>2365</td>\n",
       "    </tr>\n",
       "  </tbody>\n",
       "</table>\n",
       "</div>"
      ],
      "text/plain": [
       "   lower  upper   mean  coef_pval   corr  corr_pval     task     n\n",
       "0  0.083  0.135  0.109        0.0  0.285        0.0  Overall  2365"
      ]
     },
     "execution_count": 133,
     "metadata": {},
     "output_type": "execute_result"
    }
   ],
   "source": [
    "overall_coef.round(3)"
   ]
  },
  {
   "cell_type": "code",
   "execution_count": 86,
   "metadata": {},
   "outputs": [
    {
     "data": {
      "text/html": [
       "<div>\n",
       "<style scoped>\n",
       "    .dataframe tbody tr th:only-of-type {\n",
       "        vertical-align: middle;\n",
       "    }\n",
       "\n",
       "    .dataframe tbody tr th {\n",
       "        vertical-align: top;\n",
       "    }\n",
       "\n",
       "    .dataframe thead th {\n",
       "        text-align: right;\n",
       "    }\n",
       "</style>\n",
       "<table border=\"1\" class=\"dataframe\">\n",
       "  <thead>\n",
       "    <tr style=\"text-align: right;\">\n",
       "      <th></th>\n",
       "      <th>lower</th>\n",
       "      <th>upper</th>\n",
       "      <th>mean</th>\n",
       "      <th>coef_pval</th>\n",
       "      <th>corr</th>\n",
       "      <th>corr_pval</th>\n",
       "      <th>corr_lower</th>\n",
       "      <th>corr_upper</th>\n",
       "      <th>task</th>\n",
       "      <th>n</th>\n",
       "    </tr>\n",
       "  </thead>\n",
       "  <tbody>\n",
       "    <tr>\n",
       "      <th>0</th>\n",
       "      <td>0.083</td>\n",
       "      <td>0.135</td>\n",
       "      <td>0.109</td>\n",
       "      <td>0.0</td>\n",
       "      <td>0.285</td>\n",
       "      <td>0.0</td>\n",
       "      <td>0.239</td>\n",
       "      <td>0.331</td>\n",
       "      <td>Overall</td>\n",
       "      <td>2365</td>\n",
       "    </tr>\n",
       "  </tbody>\n",
       "</table>\n",
       "</div>"
      ],
      "text/plain": [
       "   lower  upper   mean  coef_pval   corr  corr_pval  corr_lower  corr_upper  \\\n",
       "0  0.083  0.135  0.109        0.0  0.285        0.0       0.239       0.331   \n",
       "\n",
       "      task     n  \n",
       "0  Overall  2365  "
      ]
     },
     "execution_count": 86,
     "metadata": {},
     "output_type": "execute_result"
    }
   ],
   "source": [
    "overall_coef.round(3)"
   ]
  },
  {
   "cell_type": "code",
   "execution_count": 92,
   "metadata": {},
   "outputs": [
    {
     "name": "stdout",
     "output_type": "stream",
     "text": [
      "Enlarged Cardiomediastinum\n",
      "Cardiomegaly\n",
      "Lung Lesion\n",
      "Airspace Opacity\n",
      "Edema\n",
      "Consolidation\n",
      "Atelectasis\n",
      "Pneumothorax\n",
      "Pleural Effusion\n",
      "Support Devices\n"
     ]
    }
   ],
   "source": [
    "coef_summary = pd.DataFrame(columns = [\"lower\",\"upper\",\"mean\",\"coef_pval\",\"corr\",\"corr_pval\",\"corr_lower\", \"corr_upper\", \"feature\",\"task\"])\n",
    "y = 'pt'\n",
    "\n",
    "feature = 'prob'\n",
    "\n",
    "for task in LOCALIZATION_TASKS:\n",
    "    print(task)\n",
    "    regression_df = pd.read_csv(f'{regression_path}/regression_prob_{task}.csv')\n",
    "   \n",
    "    # normalize feature\n",
    "#     regression_df[feature] = standardize(regression_df[feature])\n",
    "\n",
    "    # run regression\n",
    "    est = smf.ols(f\"{y} ~ {feature}\", data = regression_df)\n",
    "    est2 = est.fit()\n",
    "    ci = est2.conf_int(alpha=0.05, cols=None)  # get ci \n",
    "    lower,upper = ci.loc[feature]\n",
    "    mean = est2.params.loc[feature]\n",
    "    pval = est2.pvalues.loc[feature]\n",
    "    corr, corr_pval = stats.spearmanr(regression_df[y].values,regression_df[feature].values,nan_policy = 'omit')\n",
    "    n = len(overall_regression)\n",
    "    stderr = 1.0 / math.sqrt(n - 3)\n",
    "    delta = 1.96 * stderr\n",
    "    lower_r = math.tanh(math.atanh(corr) - delta)\n",
    "    upper_r = math.tanh(math.atanh(corr) + delta)\n",
    "\n",
    "    # append to dataframe\n",
    "    coef_summary = coef_summary.append({'lower': lower,\n",
    "                                        'upper': upper,\n",
    "                                        'mean': mean,\n",
    "                                        'coef_pval': pval,\n",
    "                                        'corr_pval': corr_pval,\n",
    "                                        'corr': corr,\n",
    "                                        'corr_lower': lower_r,\n",
    "                                        'corr_upper':upper_r,\n",
    "                                        'n': len(regression_df),\n",
    "                                        'feature': feature,\n",
    "                                        'task': task},ignore_index=True)\n",
    "\n",
    "# coef_summary.to_csv(f'tables/regression_prob_{y}.csv')"
   ]
  },
  {
   "cell_type": "code",
   "execution_count": 136,
   "metadata": {},
   "outputs": [
    {
     "data": {
      "text/html": [
       "<div>\n",
       "<style scoped>\n",
       "    .dataframe tbody tr th:only-of-type {\n",
       "        vertical-align: middle;\n",
       "    }\n",
       "\n",
       "    .dataframe tbody tr th {\n",
       "        vertical-align: top;\n",
       "    }\n",
       "\n",
       "    .dataframe thead th {\n",
       "        text-align: right;\n",
       "    }\n",
       "</style>\n",
       "<table border=\"1\" class=\"dataframe\">\n",
       "  <thead>\n",
       "    <tr style=\"text-align: right;\">\n",
       "      <th></th>\n",
       "      <th>mean</th>\n",
       "      <th>coef_pval</th>\n",
       "      <th>corr</th>\n",
       "      <th>corr_pval</th>\n",
       "      <th>task</th>\n",
       "      <th>n</th>\n",
       "    </tr>\n",
       "  </thead>\n",
       "  <tbody>\n",
       "    <tr>\n",
       "      <th>0</th>\n",
       "      <td>1.974</td>\n",
       "      <td>0.000</td>\n",
       "      <td>0.428</td>\n",
       "      <td>0.00</td>\n",
       "      <td>Enlarged Cardiomediastinum</td>\n",
       "      <td>668.0</td>\n",
       "    </tr>\n",
       "    <tr>\n",
       "      <th>1</th>\n",
       "      <td>0.679</td>\n",
       "      <td>0.000</td>\n",
       "      <td>0.592</td>\n",
       "      <td>0.00</td>\n",
       "      <td>Cardiomegaly</td>\n",
       "      <td>229.0</td>\n",
       "    </tr>\n",
       "    <tr>\n",
       "      <th>2</th>\n",
       "      <td>0.218</td>\n",
       "      <td>0.002</td>\n",
       "      <td>0.509</td>\n",
       "      <td>0.00</td>\n",
       "      <td>Lung Lesion</td>\n",
       "      <td>50.0</td>\n",
       "    </tr>\n",
       "    <tr>\n",
       "      <th>3</th>\n",
       "      <td>0.714</td>\n",
       "      <td>0.000</td>\n",
       "      <td>0.577</td>\n",
       "      <td>0.00</td>\n",
       "      <td>Airspace Opacity</td>\n",
       "      <td>381.0</td>\n",
       "    </tr>\n",
       "    <tr>\n",
       "      <th>4</th>\n",
       "      <td>0.642</td>\n",
       "      <td>0.000</td>\n",
       "      <td>0.548</td>\n",
       "      <td>0.00</td>\n",
       "      <td>Edema</td>\n",
       "      <td>124.0</td>\n",
       "    </tr>\n",
       "    <tr>\n",
       "      <th>5</th>\n",
       "      <td>1.155</td>\n",
       "      <td>0.000</td>\n",
       "      <td>0.384</td>\n",
       "      <td>0.00</td>\n",
       "      <td>Consolidation</td>\n",
       "      <td>120.0</td>\n",
       "    </tr>\n",
       "    <tr>\n",
       "      <th>6</th>\n",
       "      <td>0.489</td>\n",
       "      <td>0.000</td>\n",
       "      <td>0.348</td>\n",
       "      <td>0.00</td>\n",
       "      <td>Atelectasis</td>\n",
       "      <td>296.0</td>\n",
       "    </tr>\n",
       "    <tr>\n",
       "      <th>7</th>\n",
       "      <td>0.446</td>\n",
       "      <td>0.015</td>\n",
       "      <td>0.734</td>\n",
       "      <td>0.01</td>\n",
       "      <td>Pneumothorax</td>\n",
       "      <td>11.0</td>\n",
       "    </tr>\n",
       "    <tr>\n",
       "      <th>8</th>\n",
       "      <td>0.632</td>\n",
       "      <td>0.000</td>\n",
       "      <td>0.690</td>\n",
       "      <td>0.00</td>\n",
       "      <td>Pleural Effusion</td>\n",
       "      <td>159.0</td>\n",
       "    </tr>\n",
       "    <tr>\n",
       "      <th>9</th>\n",
       "      <td>0.211</td>\n",
       "      <td>0.000</td>\n",
       "      <td>0.468</td>\n",
       "      <td>0.00</td>\n",
       "      <td>Support Devices</td>\n",
       "      <td>327.0</td>\n",
       "    </tr>\n",
       "  </tbody>\n",
       "</table>\n",
       "</div>"
      ],
      "text/plain": [
       "    mean  coef_pval   corr  corr_pval                        task      n\n",
       "0  1.974      0.000  0.428       0.00  Enlarged Cardiomediastinum  668.0\n",
       "1  0.679      0.000  0.592       0.00                Cardiomegaly  229.0\n",
       "2  0.218      0.002  0.509       0.00                 Lung Lesion   50.0\n",
       "3  0.714      0.000  0.577       0.00            Airspace Opacity  381.0\n",
       "4  0.642      0.000  0.548       0.00                       Edema  124.0\n",
       "5  1.155      0.000  0.384       0.00               Consolidation  120.0\n",
       "6  0.489      0.000  0.348       0.00                 Atelectasis  296.0\n",
       "7  0.446      0.015  0.734       0.01                Pneumothorax   11.0\n",
       "8  0.632      0.000  0.690       0.00            Pleural Effusion  159.0\n",
       "9  0.211      0.000  0.468       0.00             Support Devices  327.0"
      ]
     },
     "execution_count": 136,
     "metadata": {},
     "output_type": "execute_result"
    }
   ],
   "source": [
    "%precision 3\n",
    "coef_summary.round(3)[['mean','coef_pval','corr','corr_pval','task','n']]#.to_csv('prob_experiments_results.csv')"
   ]
  },
  {
   "cell_type": "code",
   "execution_count": 94,
   "metadata": {},
   "outputs": [],
   "source": [
    "coef_summary = coef_summary.append(overall_coef)\n"
   ]
  },
  {
   "cell_type": "code",
   "execution_count": 95,
   "metadata": {},
   "outputs": [],
   "source": [
    "coef_summary.to_csv(f'tables_final/{y}_prob_coef.csv')"
   ]
  },
  {
   "cell_type": "code",
   "execution_count": 139,
   "metadata": {},
   "outputs": [],
   "source": [
    "coef_summary.round(3)[['mean','coef_pval','corr','corr_pval','task','n']].to_csv('prob_experiments_results.csv')"
   ]
  },
  {
   "cell_type": "code",
   "execution_count": 85,
   "metadata": {},
   "outputs": [
    {
     "data": {
      "text/plain": [
       "<matplotlib.collections.PathCollection at 0x7fb4226eb810>"
      ]
     },
     "execution_count": 85,
     "metadata": {},
     "output_type": "execute_result"
    },
    {
     "data": {
      "image/png": "[encoded data removed]",
      "text/plain": [
       "<Figure size 432x288 with 1 Axes>"
      ]
     },
     "metadata": {
      "needs_background": "light"
     },
     "output_type": "display_data"
    }
   ],
   "source": [
    "# task = 'Cardiomegaly'\n",
    "plt.scatter(probs_df,iou)\n",
    "# plt.scatter(probs_df[task],iou[task])"
   ]
  },
  {
   "cell_type": "code",
   "execution_count": 134,
   "metadata": {},
   "outputs": [
    {
     "name": "stdout",
     "output_type": "stream",
     "text": [
      "n_instance: 1534\n",
      "area_ratio: 1534\n",
      "elongation: 1534\n",
      "rec_area_ratio: 1534\n"
     ]
    }
   ],
   "source": [
    "features = ['n_instance','area_ratio','elongation','rec_area_ratio']\n",
    "for feature in features:\n",
    "    print(f\"{feature}: {len(overall_regression[feature])}\")"
   ]
  },
  {
   "cell_type": "markdown",
   "metadata": {},
   "source": [
    "### Plotting the Features"
   ]
  },
  {
   "cell_type": "code",
   "execution_count": 26,
   "metadata": {},
   "outputs": [
    {
     "data": {
      "text/plain": [
       "<Figure size 432x864 with 0 Axes>"
      ]
     },
     "metadata": {},
     "output_type": "display_data"
    },
    {
     "data": {
      "image/png": "[encoded data removed]",
      "text/plain": [
       "<Figure size 360x360 with 1 Axes>"
      ]
     },
     "metadata": {
      "needs_background": "light"
     },
     "output_type": "display_data"
    }
   ],
   "source": [
    "task_labels = sorted(LOCALIZATION_TASKS)\n",
    "task_labels[5] = 'E. Cardiom.'\n",
    "plt.figure(figsize=(6,12))\n",
    "g1 = sns.catplot(x='task', y=features[3], data=overall_regression,kind='boxen')\n",
    "g1.set_xticklabels(task_labels,fontsize=10,rotation=60,ha=\"right\",rotation_mode=\"anchor\")\n",
    "plt.xlabel('')\n",
    "plt.ylabel('Shape Irrectangularity',fontsize=12)\n",
    "plt.tight_layout()\n",
    "plt.savefig('fig3/shape_dist.png',dpi=300)"
   ]
  },
  {
   "cell_type": "code",
   "execution_count": 218,
   "metadata": {},
   "outputs": [],
   "source": [
    "# multiple regression code\n",
    "\n",
    "overall_summary = pd.DataFrame(columns = ['coef_n_instance','coef_area_ratio','coef_elongation','coef_rec_area_ratio','pval_n_instance','pval_area_ratio','pval_elongation','pval_rec_area_ratio','rsquared_adj'])\n",
    "for task in tasks:\n",
    "    regression_df = pd.read_csv(f'{output_path}/regression_{task}.csv')\n",
    "    est = smf.ols(\"iou_diff ~ area_ratio+n_instance+elongation+rec_area_ratio\", data = regression_df)\n",
    "    est2 = est.fit()\n",
    "    params = est2.params[['n_instance','area_ratio','elongation','rec_area_ratio']].tolist()\n",
    "    pvals = est2.pvalues[['n_instance','area_ratio','elongation','rec_area_ratio']].tolist()\n",
    "    overall_summary = overall_summary.append(pd.Series(params+pvals+[est2.rsquared_adj], index=overall_summary.columns, name=task))\n",
    "\n",
    "coef_summary = pd.DataFrame()\n",
    "for task in tasks:\n",
    "    regression_df = pd.read_csv(f'{output_path}/regression_{task}.csv')\n",
    "    est = smf.ols(\"iou_diff ~ area_ratio+n_instance+elongation+rec_area_ratio\", data = regression_df)\n",
    "    est2 = est.fit()\n",
    "    ci = est2.conf_int(alpha=0.05, cols=None)\n",
    "    ci['coef'] = est2.params.tolist()\n",
    "    ci['task'] = task\n",
    "    ci['feature'] = ci.index\n",
    "    coef_summary = coef_summary.append(ci)\n",
    "coef_summary = coef_summary.reset_index(drop=True)"
   ]
  },
  {
   "cell_type": "code",
   "execution_count": 35,
   "metadata": {},
   "outputs": [],
   "source": [
    "pvalues"
   ]
  },
  {
   "cell_type": "code",
   "execution_count": 308,
   "metadata": {},
   "outputs": [],
   "source": [
    "n_instance_coef = coef_summary[coef_summary['feature'] == 'n_instance'].sort_values(by=['task'])\n",
    "area_ratio_coef = coef_summary[coef_summary['feature'] == 'area_ratio'].sort_values(by=['task'])\n",
    "elongation_coef = coef_summary[coef_summary['feature'] == 'elongation'].sort_values(by=['task'])\n",
    "shape_coef = coef_summary[coef_summary['feature'] == 'rec_area_ratio'].sort_values(by=['task'])"
   ]
  },
  {
   "cell_type": "code",
   "execution_count": 367,
   "metadata": {},
   "outputs": [
    {
     "data": {
      "text/html": [
       "<div>\n",
       "<style scoped>\n",
       "    .dataframe tbody tr th:only-of-type {\n",
       "        vertical-align: middle;\n",
       "    }\n",
       "\n",
       "    .dataframe tbody tr th {\n",
       "        vertical-align: top;\n",
       "    }\n",
       "\n",
       "    .dataframe thead th {\n",
       "        text-align: right;\n",
       "    }\n",
       "</style>\n",
       "<table border=\"1\" class=\"dataframe\">\n",
       "  <thead>\n",
       "    <tr style=\"text-align: right;\">\n",
       "      <th></th>\n",
       "      <th>lower</th>\n",
       "      <th>upper</th>\n",
       "      <th>mean</th>\n",
       "      <th>feature</th>\n",
       "      <th>task</th>\n",
       "    </tr>\n",
       "  </thead>\n",
       "  <tbody>\n",
       "    <tr>\n",
       "      <th>14</th>\n",
       "      <td>-0.086293</td>\n",
       "      <td>0.345222</td>\n",
       "      <td>0.129465</td>\n",
       "      <td>elongation</td>\n",
       "      <td>Airspace Opacity</td>\n",
       "    </tr>\n",
       "    <tr>\n",
       "      <th>26</th>\n",
       "      <td>0.076340</td>\n",
       "      <td>0.462485</td>\n",
       "      <td>0.269413</td>\n",
       "      <td>elongation</td>\n",
       "      <td>Atelectasis</td>\n",
       "    </tr>\n",
       "    <tr>\n",
       "      <th>6</th>\n",
       "      <td>0.184996</td>\n",
       "      <td>0.482916</td>\n",
       "      <td>0.333956</td>\n",
       "      <td>elongation</td>\n",
       "      <td>Cardiomegaly</td>\n",
       "    </tr>\n",
       "    <tr>\n",
       "      <th>22</th>\n",
       "      <td>-0.314040</td>\n",
       "      <td>0.214415</td>\n",
       "      <td>-0.049812</td>\n",
       "      <td>elongation</td>\n",
       "      <td>Consolidation</td>\n",
       "    </tr>\n",
       "    <tr>\n",
       "      <th>18</th>\n",
       "      <td>0.033564</td>\n",
       "      <td>0.391242</td>\n",
       "      <td>0.212403</td>\n",
       "      <td>elongation</td>\n",
       "      <td>Edema</td>\n",
       "    </tr>\n",
       "    <tr>\n",
       "      <th>2</th>\n",
       "      <td>-0.595039</td>\n",
       "      <td>-0.221931</td>\n",
       "      <td>-0.408485</td>\n",
       "      <td>elongation</td>\n",
       "      <td>Enlarged Cardiomediastinum</td>\n",
       "    </tr>\n",
       "    <tr>\n",
       "      <th>10</th>\n",
       "      <td>-0.882481</td>\n",
       "      <td>0.288282</td>\n",
       "      <td>-0.297100</td>\n",
       "      <td>elongation</td>\n",
       "      <td>Lung Lesion</td>\n",
       "    </tr>\n",
       "    <tr>\n",
       "      <th>34</th>\n",
       "      <td>0.248539</td>\n",
       "      <td>0.883185</td>\n",
       "      <td>0.565862</td>\n",
       "      <td>elongation</td>\n",
       "      <td>Pleural Effusion</td>\n",
       "    </tr>\n",
       "    <tr>\n",
       "      <th>30</th>\n",
       "      <td>-0.239387</td>\n",
       "      <td>0.788495</td>\n",
       "      <td>0.274554</td>\n",
       "      <td>elongation</td>\n",
       "      <td>Pneumothorax</td>\n",
       "    </tr>\n",
       "    <tr>\n",
       "      <th>38</th>\n",
       "      <td>-0.047254</td>\n",
       "      <td>0.183284</td>\n",
       "      <td>0.068015</td>\n",
       "      <td>elongation</td>\n",
       "      <td>Support Devices</td>\n",
       "    </tr>\n",
       "    <tr>\n",
       "      <th>42</th>\n",
       "      <td>0.355206</td>\n",
       "      <td>0.592811</td>\n",
       "      <td>0.474009</td>\n",
       "      <td>elongation</td>\n",
       "      <td>overall</td>\n",
       "    </tr>\n",
       "  </tbody>\n",
       "</table>\n",
       "</div>"
      ],
      "text/plain": [
       "       lower     upper      mean     feature                        task\n",
       "14 -0.086293  0.345222  0.129465  elongation            Airspace Opacity\n",
       "26  0.076340  0.462485  0.269413  elongation                 Atelectasis\n",
       "6   0.184996  0.482916  0.333956  elongation                Cardiomegaly\n",
       "22 -0.314040  0.214415 -0.049812  elongation               Consolidation\n",
       "18  0.033564  0.391242  0.212403  elongation                       Edema\n",
       "2  -0.595039 -0.221931 -0.408485  elongation  Enlarged Cardiomediastinum\n",
       "10 -0.882481  0.288282 -0.297100  elongation                 Lung Lesion\n",
       "34  0.248539  0.883185  0.565862  elongation            Pleural Effusion\n",
       "30 -0.239387  0.788495  0.274554  elongation                Pneumothorax\n",
       "38 -0.047254  0.183284  0.068015  elongation             Support Devices\n",
       "42  0.355206  0.592811  0.474009  elongation                     overall"
      ]
     },
     "execution_count": 367,
     "metadata": {},
     "output_type": "execute_result"
    }
   ],
   "source": [
    "elongation_coef"
   ]
  },
  {
   "cell_type": "code",
   "execution_count": 314,
   "metadata": {},
   "outputs": [],
   "source": [
    "df = [n_instance_coef,area_ratio_coef,elongation_coef,shape_coef]"
   ]
  },
  {
   "cell_type": "code",
   "execution_count": 310,
   "metadata": {},
   "outputs": [
    {
     "data": {
      "image/png": "[encoded data removed]",
      "text/plain": [
       "<Figure size 216x432 with 1 Axes>"
      ]
     },
     "metadata": {
      "needs_background": "light"
     },
     "output_type": "display_data"
    }
   ],
   "source": [
    "import seaborn as sns\n",
    "\n",
    "plt.figure(figsize=(3,6))\n",
    "g = sns.pointplot(x='mean', y=\"task\", join = False, markers = 'o',scale = .5, ci = (n_instance_coef['upper']-n_instance_coef['lower']).values, data=n_instance_coef)\n",
    "g.set_yticklabels(sorted(tasks),fontsize=10)\n",
    "# Find the x,y coordinates for each point\n",
    "x_coords = []\n",
    "y_coords = []\n",
    "for point_pair in g.collections:\n",
    "    for x, y in point_pair.get_offsets():\n",
    "        x_coords.append(x)\n",
    "        y_coords.append(y)\n",
    "\n",
    "# Calculate the type of error to plot as the error bars\n",
    "# Make sure the order is the same as the points were looped over\n",
    "errors = n_instance_coef['upper']-n_instance_coef['lower']\n",
    "colors = sns.color_palette()\n",
    "g.errorbar(x_coords, y_coords, xerr=errors, elinewidth = 1,\n",
    "    ecolor=colors, fmt=' ')\n",
    "\n",
    "plt.ylabel('', fontsize=0)\n",
    "plt.xlabel('Coefficients', fontsize=10)\n",
    "plt.show()"
   ]
  },
  {
   "cell_type": "code",
   "execution_count": 315,
   "metadata": {},
   "outputs": [
    {
     "data": {
      "text/plain": [
       "<Figure size 432x864 with 0 Axes>"
      ]
     },
     "metadata": {},
     "output_type": "display_data"
    },
    {
     "data": {
      "image/png": "[encoded data removed]",
      "text/plain": [
       "<Figure size 648x360 with 4 Axes>"
      ]
     },
     "metadata": {
      "needs_background": "light"
     },
     "output_type": "display_data"
    }
   ],
   "source": [
    "plt.figure(figsize=(6,12))\n",
    "fig, axs = plt.subplots(nrows=1, ncols = 4, sharey=True,figsize=(9,5))\n",
    "sns.pointplot(x='mean', y=\"task\", join = False, markers = 'o',scale = .5, data=n_instance_coef,ax=axs[0])\n",
    "sns.pointplot(x='mean', y=\"task\", join = False, markers = 'o',scale = .5, data=area_ratio_coef,ax=axs[1])\n",
    "sns.pointplot(x='mean', y=\"task\", join = False, markers = 'o',scale = .5, data=elongation_coef,ax=axs[2])\n",
    "sns.pointplot(x='mean', y=\"task\", join = False, markers = 'o',scale = .5, data=shape_coef,ax=axs[3])\n",
    "for i in range(4):\n",
    "\n",
    "    x_coords = []\n",
    "    y_coords = []\n",
    "    for point_pair in axs[i].collections:\n",
    "        for x, y in point_pair.get_offsets():\n",
    "            x_coords.append(x)\n",
    "            y_coords.append(y)\n",
    "\n",
    "    # Calculate the type of error to plot as the error bars\n",
    "    # Make sure the order is the same as the points were looped over\n",
    "    errors = df[i]['upper']-df[i]['lower']\n",
    "    colors = sns.color_palette()\n",
    "    axs[i].errorbar(x_coords, y_coords, xerr=errors, elinewidth = 1,\n",
    "        ecolor=colors, fmt=' ')\n",
    "    axs[i].set_ylabel('', fontsize=0)\n",
    "    axs[i].set_xlabel('', fontsize=0)\n",
    "    \n",
    "axs[0].set_yticklabels(sorted(tasks)+['Overall'],fontsize=10)\n",
    "plt.show()\n",
    "# plt.savefig('regression_coef.png',dpi = 300,bbox_inches = 'tight')"
   ]
  },
  {
   "cell_type": "code",
   "execution_count": 133,
   "metadata": {},
   "outputs": [],
   "source": [
    "# focus on one method e.g. GradCAM \n",
    "\n",
    "# try shapes of pathologies (as an attribute to try)\n",
    "# - everywhere v.s focal (concentrated or diffuse)\n",
    "# - circle or not\n",
    "# - how difficult it is for radiologists to label?\n",
    "\n",
    "# regression: how correlated are ious from model and human \n",
    "# !!!!normalize area ratio "
   ]
  },
  {
   "cell_type": "code",
   "execution_count": 124,
   "metadata": {},
   "outputs": [
    {
     "data": {
      "text/plain": [
       "['E. Cardiom.',\n",
       " 'Cardiomegaly',\n",
       " 'Lung Lesion',\n",
       " 'Airspace Opacity',\n",
       " 'Edema',\n",
       " 'Consolidation',\n",
       " 'Atelectasis',\n",
       " 'Pneumothorax',\n",
       " 'Pleural Effusion',\n",
       " 'Support Devices']"
      ]
     },
     "execution_count": 124,
     "metadata": {},
     "output_type": "execute_result"
    }
   ],
   "source": [
    "tasks"
   ]
  },
  {
   "cell_type": "code",
   "execution_count": 377,
   "metadata": {},
   "outputs": [
    {
     "name": "stdout",
     "output_type": "stream",
     "text": [
      "Support Devices\n",
      "                            OLS Regression Results                            \n",
      "==============================================================================\n",
      "Dep. Variable:               iou_diff   R-squared:                       0.038\n",
      "Model:                            OLS   Adj. R-squared:                  0.038\n",
      "Method:                 Least Squares   F-statistic:                     61.25\n",
      "Date:                Fri, 20 Nov 2020   Prob (F-statistic):           9.31e-15\n",
      "Time:                        02:20:20   Log-Likelihood:                -225.44\n",
      "No. Observations:                1534   AIC:                             454.9\n",
      "Df Residuals:                    1532   BIC:                             465.5\n",
      "Df Model:                           1                                         \n",
      "Covariance Type:            nonrobust                                         \n",
      "==============================================================================\n",
      "                 coef    std err          t      P>|t|      [0.025      0.975]\n",
      "------------------------------------------------------------------------------\n",
      "Intercept      0.0648      0.009      7.442      0.000       0.048       0.082\n",
      "elongation     0.4740      0.061      7.826      0.000       0.355       0.593\n",
      "==============================================================================\n",
      "Omnibus:                        9.428   Durbin-Watson:                   1.343\n",
      "Prob(Omnibus):                  0.009   Jarque-Bera (JB):                8.397\n",
      "Skew:                           0.127   Prob(JB):                       0.0150\n",
      "Kurtosis:                       2.741   Cond. No.                         8.52\n",
      "==============================================================================\n",
      "\n",
      "Notes:\n",
      "[1] Standard Errors assume that the covariance matrix of the errors is correctly specified.\n"
     ]
    }
   ],
   "source": [
    "task = tasks[9]\n",
    "print(task)\n",
    "regression_df =pd.read_csv(f'{output_path}/regression_{task}.csv')\n",
    "overall_regression['elongation'] = normalize(overall_regression['elongation'])\n",
    "est = smf.ols(\"iou_diff ~ elongation\", data = overall_regression)\n",
    "est2 = est.fit()\n",
    "print(est2.summary())"
   ]
  },
  {
   "cell_type": "code",
   "execution_count": 379,
   "metadata": {},
   "outputs": [
    {
     "data": {
      "text/plain": [
       "(array([1.227e+03, 1.760e+02, 4.300e+01, 3.100e+01, 1.900e+01, 2.100e+01,\n",
       "        8.000e+00, 5.000e+00, 3.000e+00, 1.000e+00]),\n",
       " array([0. , 0.1, 0.2, 0.3, 0.4, 0.5, 0.6, 0.7, 0.8, 0.9, 1. ]),\n",
       " <a list of 10 Patch objects>)"
      ]
     },
     "execution_count": 379,
     "metadata": {},
     "output_type": "execute_result"
    },
    {
     "data": {
      "image/png": "[encoded data removed]",
      "text/plain": [
       "<Figure size 432x288 with 1 Axes>"
      ]
     },
     "metadata": {
      "needs_background": "light"
     },
     "output_type": "display_data"
    }
   ],
   "source": [
    "plt.hist(overall_regression['elongation'])"
   ]
  },
  {
   "cell_type": "code",
   "execution_count": 17,
   "metadata": {},
   "outputs": [
    {
     "data": {
      "text/html": [
       "<div>\n",
       "<style scoped>\n",
       "    .dataframe tbody tr th:only-of-type {\n",
       "        vertical-align: middle;\n",
       "    }\n",
       "\n",
       "    .dataframe tbody tr th {\n",
       "        vertical-align: top;\n",
       "    }\n",
       "\n",
       "    .dataframe thead th {\n",
       "        text-align: right;\n",
       "    }\n",
       "</style>\n",
       "<table border=\"1\" class=\"dataframe\">\n",
       "  <thead>\n",
       "    <tr style=\"text-align: right;\">\n",
       "      <th></th>\n",
       "      <th>0</th>\n",
       "      <th>1</th>\n",
       "    </tr>\n",
       "  </thead>\n",
       "  <tbody>\n",
       "    <tr>\n",
       "      <th>Intercept</th>\n",
       "      <td>0.375222</td>\n",
       "      <td>0.508485</td>\n",
       "    </tr>\n",
       "    <tr>\n",
       "      <th>area_ratio</th>\n",
       "      <td>-0.481936</td>\n",
       "      <td>-0.125894</td>\n",
       "    </tr>\n",
       "    <tr>\n",
       "      <th>n_instance</th>\n",
       "      <td>-0.083454</td>\n",
       "      <td>-0.035262</td>\n",
       "    </tr>\n",
       "    <tr>\n",
       "      <th>elongation</th>\n",
       "      <td>-0.015125</td>\n",
       "      <td>0.006497</td>\n",
       "    </tr>\n",
       "    <tr>\n",
       "      <th>rec_area_ratio</th>\n",
       "      <td>-0.079506</td>\n",
       "      <td>0.166039</td>\n",
       "    </tr>\n",
       "  </tbody>\n",
       "</table>\n",
       "</div>"
      ],
      "text/plain": [
       "                       0         1\n",
       "Intercept       0.375222  0.508485\n",
       "area_ratio     -0.481936 -0.125894\n",
       "n_instance     -0.083454 -0.035262\n",
       "elongation     -0.015125  0.006497\n",
       "rec_area_ratio -0.079506  0.166039"
      ]
     },
     "execution_count": 17,
     "metadata": {},
     "output_type": "execute_result"
    }
   ],
   "source": [
    "est2.conf_int(alpha=0.05, cols=None)"
   ]
  },
  {
   "cell_type": "code",
   "execution_count": 115,
   "metadata": {},
   "outputs": [
    {
     "data": {
      "text/plain": [
       "(array([5., 1., 3., 1., 0., 0., 1., 0., 1., 2.]),\n",
       " array([0.        , 0.02802647, 0.05605294, 0.08407941, 0.11210588,\n",
       "        0.14013235, 0.16815882, 0.19618529, 0.22421176, 0.25223823,\n",
       "        0.2802647 ]),\n",
       " <a list of 10 Patch objects>)"
      ]
     },
     "execution_count": 115,
     "metadata": {},
     "output_type": "execute_result"
    },
    {
     "data": {
      "image/png": "[encoded data removed]",
      "text/plain": [
       "<Figure size 432x288 with 1 Axes>"
      ]
     },
     "metadata": {
      "needs_background": "light"
     },
     "output_type": "display_data"
    }
   ],
   "source": [
    "plt.hist(regression_df['iou'])"
   ]
  },
  {
   "cell_type": "code",
   "execution_count": 121,
   "metadata": {},
   "outputs": [
    {
     "data": {
      "text/html": [
       "<div>\n",
       "<style scoped>\n",
       "    .dataframe tbody tr th:only-of-type {\n",
       "        vertical-align: middle;\n",
       "    }\n",
       "\n",
       "    .dataframe tbody tr th {\n",
       "        vertical-align: top;\n",
       "    }\n",
       "\n",
       "    .dataframe thead th {\n",
       "        text-align: right;\n",
       "    }\n",
       "</style>\n",
       "<table border=\"1\" class=\"dataframe\">\n",
       "  <thead>\n",
       "    <tr style=\"text-align: right;\">\n",
       "      <th></th>\n",
       "      <th>count</th>\n",
       "      <th>mean</th>\n",
       "      <th>std</th>\n",
       "      <th>min</th>\n",
       "      <th>25%</th>\n",
       "      <th>50%</th>\n",
       "      <th>75%</th>\n",
       "      <th>max</th>\n",
       "    </tr>\n",
       "    <tr>\n",
       "      <th>n_instance</th>\n",
       "      <th></th>\n",
       "      <th></th>\n",
       "      <th></th>\n",
       "      <th></th>\n",
       "      <th></th>\n",
       "      <th></th>\n",
       "      <th></th>\n",
       "      <th></th>\n",
       "    </tr>\n",
       "  </thead>\n",
       "  <tbody>\n",
       "    <tr>\n",
       "      <th>1</th>\n",
       "      <td>165.0</td>\n",
       "      <td>0.227361</td>\n",
       "      <td>0.186294</td>\n",
       "      <td>0.000000</td>\n",
       "      <td>0.047522</td>\n",
       "      <td>0.199993</td>\n",
       "      <td>0.371632</td>\n",
       "      <td>0.676121</td>\n",
       "    </tr>\n",
       "    <tr>\n",
       "      <th>2</th>\n",
       "      <td>130.0</td>\n",
       "      <td>0.268560</td>\n",
       "      <td>0.145020</td>\n",
       "      <td>0.000000</td>\n",
       "      <td>0.165843</td>\n",
       "      <td>0.269489</td>\n",
       "      <td>0.387132</td>\n",
       "      <td>0.667337</td>\n",
       "    </tr>\n",
       "    <tr>\n",
       "      <th>3</th>\n",
       "      <td>10.0</td>\n",
       "      <td>0.296558</td>\n",
       "      <td>0.177084</td>\n",
       "      <td>0.000000</td>\n",
       "      <td>0.257722</td>\n",
       "      <td>0.320159</td>\n",
       "      <td>0.422341</td>\n",
       "      <td>0.529704</td>\n",
       "    </tr>\n",
       "    <tr>\n",
       "      <th>4</th>\n",
       "      <td>3.0</td>\n",
       "      <td>0.294400</td>\n",
       "      <td>0.087253</td>\n",
       "      <td>0.197237</td>\n",
       "      <td>0.258568</td>\n",
       "      <td>0.319898</td>\n",
       "      <td>0.342981</td>\n",
       "      <td>0.366063</td>\n",
       "    </tr>\n",
       "    <tr>\n",
       "      <th>6</th>\n",
       "      <td>1.0</td>\n",
       "      <td>0.172213</td>\n",
       "      <td>NaN</td>\n",
       "      <td>0.172213</td>\n",
       "      <td>0.172213</td>\n",
       "      <td>0.172213</td>\n",
       "      <td>0.172213</td>\n",
       "      <td>0.172213</td>\n",
       "    </tr>\n",
       "  </tbody>\n",
       "</table>\n",
       "</div>"
      ],
      "text/plain": [
       "            count      mean       std       min       25%       50%       75%  \\\n",
       "n_instance                                                                      \n",
       "1           165.0  0.227361  0.186294  0.000000  0.047522  0.199993  0.371632   \n",
       "2           130.0  0.268560  0.145020  0.000000  0.165843  0.269489  0.387132   \n",
       "3            10.0  0.296558  0.177084  0.000000  0.257722  0.320159  0.422341   \n",
       "4             3.0  0.294400  0.087253  0.197237  0.258568  0.319898  0.342981   \n",
       "6             1.0  0.172213       NaN  0.172213  0.172213  0.172213  0.172213   \n",
       "\n",
       "                 max  \n",
       "n_instance            \n",
       "1           0.676121  \n",
       "2           0.667337  \n",
       "3           0.529704  \n",
       "4           0.366063  \n",
       "6           0.172213  "
      ]
     },
     "execution_count": 121,
     "metadata": {},
     "output_type": "execute_result"
    }
   ],
   "source": [
    "regression_df.groupby('n_instance')['iou'].describe()"
   ]
  },
  {
   "cell_type": "code",
   "execution_count": null,
   "metadata": {},
   "outputs": [],
   "source": []
  },
  {
   "cell_type": "code",
   "execution_count": null,
   "metadata": {},
   "outputs": [],
   "source": []
  }
 ],
 "metadata": {
  "kernelspec": {
   "display_name": "Python 3",
   "language": "python",
   "name": "python3"
  },
  "language_info": {
   "codemirror_mode": {
    "name": "ipython",
    "version": 3
   },
   "file_extension": ".py",
   "mimetype": "text/x-python",
   "name": "python",
   "nbconvert_exporter": "python",
   "pygments_lexer": "ipython3",
   "version": "3.7.7"
  }
 },
 "nbformat": 4,
 "nbformat_minor": 4
}
