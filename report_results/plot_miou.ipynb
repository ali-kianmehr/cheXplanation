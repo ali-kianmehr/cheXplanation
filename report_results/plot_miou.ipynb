{
 "cells": [
  {
   "cell_type": "code",
   "execution_count": 1,
   "metadata": {},
   "outputs": [],
   "source": [
    "%load_ext autoreload\n",
    "%autoreload 2"
   ]
  },
  {
   "cell_type": "code",
   "execution_count": 1,
   "metadata": {},
   "outputs": [],
   "source": [
    "import glob\n",
    "from PIL import Image, ImageDraw\n",
    "import json\n",
    "import pickle\n",
    "import matplotlib.pyplot as plt\n",
    "import numpy as np\n",
    "import cv2\n",
    "import pandas as pd\n",
    "import seaborn as sns"
   ]
  },
  {
   "cell_type": "markdown",
   "metadata": {},
   "source": [
    "### Evaluation Results"
   ]
  },
  {
   "cell_type": "code",
   "execution_count": 2,
   "metadata": {},
   "outputs": [],
   "source": [
    "results_dir = '/deep/group/aihc-bootcamp-spring2020/localize/eval_results'"
   ]
  },
  {
   "cell_type": "code",
   "execution_count": 3,
   "metadata": {},
   "outputs": [],
   "source": [
    "ious = pd.read_csv(f'{results_dir}/gradcam/test_gradcam_ensemble_merged_iou_prob_threshold.csv')"
   ]
  },
  {
   "cell_type": "code",
   "execution_count": 4,
   "metadata": {},
   "outputs": [],
   "source": [
    "method = 'gradcam'\n",
    "model_type = 'ensemble'\n",
    "phase = 'test'\n",
    "save_dir = f'{results_dir}/{method}/{phase}_{method}_{model_type}_merged_summary_threshold.csv'\n",
    "gradcam_threshold = pd.read_csv(save_dir)\n",
    "gradcam_ptgame = pd.read_csv(f'{results_dir}/{method}/ptgame_gradcam_summary.csv')"
   ]
  },
  {
   "cell_type": "code",
   "execution_count": 5,
   "metadata": {},
   "outputs": [],
   "source": [
    "save_dir = f'{results_dir}/{method}/{phase}_{method}_{model_type}_merged_summary_prob_threshold.csv'\n",
    "gradcam_prob = pd.read_csv(save_dir)"
   ]
  },
  {
   "cell_type": "code",
   "execution_count": 6,
   "metadata": {},
   "outputs": [],
   "source": [
    "save_dir = f'/deep/group/aihc-bootcamp-spring2020/localize/eval_results/human'\n",
    "vietnam = pd.read_csv(f'{save_dir}/test_human_merged_summary.csv')\n",
    "vietnam_ptgame = pd.read_csv(f'{save_dir}/ptgame_vietnam_summary.csv')"
   ]
  },
  {
   "cell_type": "code",
   "execution_count": 7,
   "metadata": {},
   "outputs": [
    {
     "data": {
      "text/html": [
       "<div>\n",
       "<style scoped>\n",
       "    .dataframe tbody tr th:only-of-type {\n",
       "        vertical-align: middle;\n",
       "    }\n",
       "\n",
       "    .dataframe tbody tr th {\n",
       "        vertical-align: top;\n",
       "    }\n",
       "\n",
       "    .dataframe thead th {\n",
       "        text-align: right;\n",
       "    }\n",
       "</style>\n",
       "<table border=\"1\" class=\"dataframe\">\n",
       "  <thead>\n",
       "    <tr style=\"text-align: right;\">\n",
       "      <th></th>\n",
       "      <th>name</th>\n",
       "      <th>lower</th>\n",
       "      <th>mean</th>\n",
       "      <th>upper</th>\n",
       "    </tr>\n",
       "  </thead>\n",
       "  <tbody>\n",
       "    <tr>\n",
       "      <th>0</th>\n",
       "      <td>Enlarged Cardiomediastinum</td>\n",
       "      <td>0.927</td>\n",
       "      <td>0.952</td>\n",
       "      <td>0.975</td>\n",
       "    </tr>\n",
       "    <tr>\n",
       "      <th>1</th>\n",
       "      <td>Cardiomegaly</td>\n",
       "      <td>0.944</td>\n",
       "      <td>0.972</td>\n",
       "      <td>0.994</td>\n",
       "    </tr>\n",
       "    <tr>\n",
       "      <th>2</th>\n",
       "      <td>Lung Lesion</td>\n",
       "      <td>0.636</td>\n",
       "      <td>0.855</td>\n",
       "      <td>1.000</td>\n",
       "    </tr>\n",
       "    <tr>\n",
       "      <th>3</th>\n",
       "      <td>Airspace Opacity</td>\n",
       "      <td>0.508</td>\n",
       "      <td>0.560</td>\n",
       "      <td>0.611</td>\n",
       "    </tr>\n",
       "    <tr>\n",
       "      <th>4</th>\n",
       "      <td>Edema</td>\n",
       "      <td>0.679</td>\n",
       "      <td>0.773</td>\n",
       "      <td>0.863</td>\n",
       "    </tr>\n",
       "    <tr>\n",
       "      <th>5</th>\n",
       "      <td>Consolidation</td>\n",
       "      <td>0.355</td>\n",
       "      <td>0.513</td>\n",
       "      <td>0.674</td>\n",
       "    </tr>\n",
       "    <tr>\n",
       "      <th>6</th>\n",
       "      <td>Atelectasis</td>\n",
       "      <td>0.820</td>\n",
       "      <td>0.870</td>\n",
       "      <td>0.919</td>\n",
       "    </tr>\n",
       "    <tr>\n",
       "      <th>7</th>\n",
       "      <td>Pneumothorax</td>\n",
       "      <td>1.000</td>\n",
       "      <td>1.000</td>\n",
       "      <td>1.000</td>\n",
       "    </tr>\n",
       "    <tr>\n",
       "      <th>8</th>\n",
       "      <td>Pleural Effusion</td>\n",
       "      <td>0.638</td>\n",
       "      <td>0.719</td>\n",
       "      <td>0.803</td>\n",
       "    </tr>\n",
       "    <tr>\n",
       "      <th>9</th>\n",
       "      <td>Support Devices</td>\n",
       "      <td>0.905</td>\n",
       "      <td>0.934</td>\n",
       "      <td>0.959</td>\n",
       "    </tr>\n",
       "  </tbody>\n",
       "</table>\n",
       "</div>"
      ],
      "text/plain": [
       "                         name  lower   mean  upper\n",
       "0  Enlarged Cardiomediastinum  0.927  0.952  0.975\n",
       "1                Cardiomegaly  0.944  0.972  0.994\n",
       "2                 Lung Lesion  0.636  0.855  1.000\n",
       "3            Airspace Opacity  0.508  0.560  0.611\n",
       "4                       Edema  0.679  0.773  0.863\n",
       "5               Consolidation  0.355  0.513  0.674\n",
       "6                 Atelectasis  0.820  0.870  0.919\n",
       "7                Pneumothorax  1.000  1.000  1.000\n",
       "8            Pleural Effusion  0.638  0.719  0.803\n",
       "9             Support Devices  0.905  0.934  0.959"
      ]
     },
     "execution_count": 7,
     "metadata": {},
     "output_type": "execute_result"
    }
   ],
   "source": [
    "vietnam_ptgame"
   ]
  },
  {
   "cell_type": "code",
   "execution_count": 8,
   "metadata": {},
   "outputs": [],
   "source": [
    "hit_diff = gradcam_ptgame.sort_values(['name']).rename(columns = {'mean':'gradcam'})\n",
    "hit_diff['human'] = (vietnam_ptgame.sort_values(['name']))['mean'].tolist()\n",
    "hit_diff['perct_diff'] = (hit_diff['human']-hit_diff['gradcam'])/hit_diff['human']*100\n",
    "hit_diff = hit_diff.sort_values(['perct_diff'],ascending = False).reset_index()"
   ]
  },
  {
   "cell_type": "code",
   "execution_count": 9,
   "metadata": {},
   "outputs": [],
   "source": [
    "iou_diff = gradcam_prob.rename(columns = {'mean':'gradcam'})\n",
    "iou_diff['human'] = vietnam['mean']\n",
    "iou_diff['perct_diff'] = (iou_diff['human']-iou_diff['gradcam'])/iou_diff['human']*100\n",
    "iou_diff = iou_diff.sort_values(['perct_diff'],ascending = False).reset_index()"
   ]
  },
  {
   "cell_type": "code",
   "execution_count": 151,
   "metadata": {},
   "outputs": [
    {
     "data": {
      "text/html": [
       "<div>\n",
       "<style scoped>\n",
       "    .dataframe tbody tr th:only-of-type {\n",
       "        vertical-align: middle;\n",
       "    }\n",
       "\n",
       "    .dataframe tbody tr th {\n",
       "        vertical-align: top;\n",
       "    }\n",
       "\n",
       "    .dataframe thead th {\n",
       "        text-align: right;\n",
       "    }\n",
       "</style>\n",
       "<table border=\"1\" class=\"dataframe\">\n",
       "  <thead>\n",
       "    <tr style=\"text-align: right;\">\n",
       "      <th></th>\n",
       "      <th>index</th>\n",
       "      <th>name</th>\n",
       "      <th>lower</th>\n",
       "      <th>gradcam</th>\n",
       "      <th>upper</th>\n",
       "      <th>human</th>\n",
       "      <th>perct_diff</th>\n",
       "    </tr>\n",
       "  </thead>\n",
       "  <tbody>\n",
       "    <tr>\n",
       "      <th>0</th>\n",
       "      <td>6</td>\n",
       "      <td>Lung Lesion</td>\n",
       "      <td>0.010</td>\n",
       "      <td>0.027</td>\n",
       "      <td>0.047</td>\n",
       "      <td>0.424</td>\n",
       "      <td>93.632</td>\n",
       "    </tr>\n",
       "    <tr>\n",
       "      <th>1</th>\n",
       "      <td>5</td>\n",
       "      <td>Enlarged Cardiomediastinum</td>\n",
       "      <td>0.153</td>\n",
       "      <td>0.169</td>\n",
       "      <td>0.185</td>\n",
       "      <td>0.564</td>\n",
       "      <td>70.035</td>\n",
       "    </tr>\n",
       "    <tr>\n",
       "      <th>2</th>\n",
       "      <td>8</td>\n",
       "      <td>Pneumothorax</td>\n",
       "      <td>0.047</td>\n",
       "      <td>0.124</td>\n",
       "      <td>0.206</td>\n",
       "      <td>0.393</td>\n",
       "      <td>68.448</td>\n",
       "    </tr>\n",
       "    <tr>\n",
       "      <th>3</th>\n",
       "      <td>9</td>\n",
       "      <td>Support Devices</td>\n",
       "      <td>0.132</td>\n",
       "      <td>0.143</td>\n",
       "      <td>0.152</td>\n",
       "      <td>0.438</td>\n",
       "      <td>67.352</td>\n",
       "    </tr>\n",
       "    <tr>\n",
       "      <th>4</th>\n",
       "      <td>2</td>\n",
       "      <td>Cardiomegaly</td>\n",
       "      <td>0.242</td>\n",
       "      <td>0.275</td>\n",
       "      <td>0.307</td>\n",
       "      <td>0.712</td>\n",
       "      <td>61.376</td>\n",
       "    </tr>\n",
       "    <tr>\n",
       "      <th>5</th>\n",
       "      <td>4</td>\n",
       "      <td>Edema</td>\n",
       "      <td>0.139</td>\n",
       "      <td>0.174</td>\n",
       "      <td>0.211</td>\n",
       "      <td>0.307</td>\n",
       "      <td>43.322</td>\n",
       "    </tr>\n",
       "    <tr>\n",
       "      <th>6</th>\n",
       "      <td>3</td>\n",
       "      <td>Consolidation</td>\n",
       "      <td>0.056</td>\n",
       "      <td>0.087</td>\n",
       "      <td>0.123</td>\n",
       "      <td>0.148</td>\n",
       "      <td>41.216</td>\n",
       "    </tr>\n",
       "    <tr>\n",
       "      <th>7</th>\n",
       "      <td>7</td>\n",
       "      <td>Pleural Effusion</td>\n",
       "      <td>0.130</td>\n",
       "      <td>0.158</td>\n",
       "      <td>0.188</td>\n",
       "      <td>0.213</td>\n",
       "      <td>25.822</td>\n",
       "    </tr>\n",
       "    <tr>\n",
       "      <th>8</th>\n",
       "      <td>0</td>\n",
       "      <td>Airspace Opacity</td>\n",
       "      <td>0.175</td>\n",
       "      <td>0.193</td>\n",
       "      <td>0.211</td>\n",
       "      <td>0.232</td>\n",
       "      <td>16.810</td>\n",
       "    </tr>\n",
       "    <tr>\n",
       "      <th>9</th>\n",
       "      <td>1</td>\n",
       "      <td>Atelectasis</td>\n",
       "      <td>0.126</td>\n",
       "      <td>0.145</td>\n",
       "      <td>0.163</td>\n",
       "      <td>0.122</td>\n",
       "      <td>-18.852</td>\n",
       "    </tr>\n",
       "  </tbody>\n",
       "</table>\n",
       "</div>"
      ],
      "text/plain": [
       "   index                        name  lower  gradcam  upper  human  perct_diff\n",
       "0      6                 Lung Lesion  0.010    0.027  0.047  0.424      93.632\n",
       "1      5  Enlarged Cardiomediastinum  0.153    0.169  0.185  0.564      70.035\n",
       "2      8                Pneumothorax  0.047    0.124  0.206  0.393      68.448\n",
       "3      9             Support Devices  0.132    0.143  0.152  0.438      67.352\n",
       "4      2                Cardiomegaly  0.242    0.275  0.307  0.712      61.376\n",
       "5      4                       Edema  0.139    0.174  0.211  0.307      43.322\n",
       "6      3               Consolidation  0.056    0.087  0.123  0.148      41.216\n",
       "7      7            Pleural Effusion  0.130    0.158  0.188  0.213      25.822\n",
       "8      0            Airspace Opacity  0.175    0.193  0.211  0.232      16.810\n",
       "9      1                 Atelectasis  0.126    0.145  0.163  0.122     -18.852"
      ]
     },
     "execution_count": 151,
     "metadata": {},
     "output_type": "execute_result"
    }
   ],
   "source": [
    "iou_diff.round(3)"
   ]
  },
  {
   "cell_type": "code",
   "execution_count": 167,
   "metadata": {},
   "outputs": [],
   "source": [
    "hit_diff[['name','human','gradcam','perct_diff']].round(3).to_csv('tables/hit.csv')"
   ]
  },
  {
   "cell_type": "code",
   "execution_count": 168,
   "metadata": {},
   "outputs": [],
   "source": [
    "iou_diff[['name','human','gradcam','perct_diff']].round(3).to_csv('tables/iou.csv')"
   ]
  },
  {
   "cell_type": "code",
   "execution_count": 10,
   "metadata": {},
   "outputs": [],
   "source": [
    "order_iou = iou_diff['name'].tolist()\n",
    "order_hit = hit_diff['name'].tolist()"
   ]
  },
  {
   "cell_type": "code",
   "execution_count": 11,
   "metadata": {},
   "outputs": [],
   "source": [
    "map_order = dict(zip(order_iou,vietnam.name))\n",
    "vietnam = vietnam.sort_values(by=['name'], key=lambda x: x.map(map_order))\n",
    "map_order_gradcam = dict(zip(order_iou,gradcam_prob.name))\n",
    "gradcam_prob = gradcam_prob.sort_values(by=['name'], key=lambda x: x.map(map_order_gradcam))"
   ]
  },
  {
   "cell_type": "code",
   "execution_count": 12,
   "metadata": {},
   "outputs": [],
   "source": [
    "gradcam_prob['method'] = 'Grad-CAM'\n",
    "vietnam['method'] = 'Benchmark'\n",
    "rad_ai_iou = pd.DataFrame()\n",
    "rad_ai_iou = rad_ai_iou.append([gradcam_prob,vietnam])"
   ]
  },
  {
   "cell_type": "code",
   "execution_count": 14,
   "metadata": {},
   "outputs": [],
   "source": [
    "rad_ai_iou.to_csv(\"tables/rad_ai_iou.csv\")"
   ]
  },
  {
   "cell_type": "code",
   "execution_count": 21,
   "metadata": {},
   "outputs": [
    {
     "data": {
      "image/png": "[encoded data removed]",
      "text/plain": [
       "<Figure size 720x576 with 1 Axes>"
      ]
     },
     "metadata": {},
     "output_type": "display_data"
    }
   ],
   "source": [
    "import matplotlib as mpc\n",
    "\n",
    "lower = -vietnam['lower']+vietnam['mean']\n",
    "upper = vietnam['upper']-vietnam['mean']\n",
    "yerrs_vietnam = np.array([lower,upper])\n",
    "\n",
    "lower = -gradcam_prob['lower']+gradcam_prob['mean']\n",
    "upper = gradcam_prob['upper']-gradcam_prob['mean']\n",
    "yerrs_gradcam = np.array([lower,upper])\n",
    "\n",
    "task_labels = order_iou.copy()\n",
    "task_labels[order_iou.index('Enlarged Cardiomediastinum')] = 'E. Cardiom.'\n",
    "task_labels[order_iou.index('Airspace Opacity')] = 'A. Opacity'\n",
    "\n",
    "colorway = [\"#7e11d1\",\"#8bfa37\"]\n",
    "plt.figure(figsize=(10,8))\n",
    "g = sns.barplot(x=\"name\", y=\"mean\", hue = 'method',data=rad_ai_iou,palette = colorway, order = order_iou)\n",
    "sns.set_style(\"darkgrid\")\n",
    "g.set_xticklabels(task_labels,fontsize=13,rotation=60,ha=\"right\",rotation_mode=\"anchor\")\n",
    "plt.errorbar(np.arange(10)+0.18,iou_diff['human'], yerr=yerrs_vietnam, capsize=5,fmt=' ',c='black')\n",
    "plt.errorbar(np.arange(10)-0.18,iou_diff['gradcam'], yerr=yerrs_gradcam, capsize=5,fmt=' ',c='black')\n",
    "plt.tight_layout()\n",
    "plt.legend(fontsize='xx-large')\n",
    "leg_handles = g.get_legend_handles_labels()[0]\n",
    "g.legend(\"\",frameon=False)\n",
    "# g.legend(leg_handles, ['Grad-CAM', 'Radiologists'],fontsize=13)\n",
    "plt.xlabel('', fontsize=0)\n",
    "plt.ylabel('mIoU', fontsize=14)\n",
    "plt.ylim([0,1.1])\n",
    "plt.savefig('fig2/update_figs/miou_human_ai_prob_threshold.png',dpi = 300)"
   ]
  },
  {
   "cell_type": "code",
   "execution_count": 15,
   "metadata": {},
   "outputs": [],
   "source": [
    "vietnam_ptgame = pd.read_csv(f'{save_dir}/ptgame_vietnam_summary.csv')\n",
    "gradcam_ptgame = pd.read_csv(f'{results_dir}/{method}/ptgame_gradcam_summary.csv')\n",
    "map_order = hit_diff['name'].to_dict()\n",
    "inv_map = {v: k for k, v in map_order.items()}\n",
    "vietnam_ptgame = vietnam_ptgame.sort_values(by=['name'], key=lambda x: x.map(inv_map))\n",
    "# map_order_gradcam = dict(zip(order_hit,gradcam_ptgame.name.tolist()))\n",
    "gradcam_ptgame = gradcam_ptgame.sort_values(by=['name'], key=lambda x: x.map(inv_map))\n"
   ]
  },
  {
   "cell_type": "code",
   "execution_count": 16,
   "metadata": {},
   "outputs": [],
   "source": [
    "gradcam_ptgame['method'] = 'Grad-CAM'\n",
    "vietnam_ptgame['method'] = 'Benchmark'\n",
    "rad_ai_hit = pd.DataFrame()\n",
    "rad_ai_hit = rad_ai_hit.append([gradcam_ptgame,vietnam_ptgame])"
   ]
  },
  {
   "cell_type": "code",
   "execution_count": 18,
   "metadata": {},
   "outputs": [],
   "source": [
    "rad_ai_hit.to_csv(\"tables/rad_ai_hit.csv\")"
   ]
  },
  {
   "cell_type": "code",
   "execution_count": 27,
   "metadata": {},
   "outputs": [
    {
     "data": {
      "image/png": "[encoded data removed]",
      "text/plain": [
       "<Figure size 720x576 with 1 Axes>"
      ]
     },
     "metadata": {},
     "output_type": "display_data"
    }
   ],
   "source": [
    "import matplotlib as mpc\n",
    "lower = -vietnam_ptgame['lower']+vietnam_ptgame['mean']\n",
    "upper = vietnam_ptgame['upper']-vietnam_ptgame['mean']\n",
    "yerrs_vietnam = np.array([lower,upper])\n",
    "\n",
    "lower = -gradcam_ptgame['lower']+gradcam_ptgame['mean']\n",
    "upper = gradcam_ptgame['upper']-gradcam_ptgame['mean']\n",
    "yerrs_gradcam = np.array([lower,upper])\n",
    "\n",
    "task_labels = order_hit.copy()\n",
    "task_labels[order_hit.index('Enlarged Cardiomediastinum')] = 'E. Cardiom.'\n",
    "task_labels[order_hit.index('Airspace Opacity')] = 'A. Opacity'\n",
    "\n",
    "colorway = [\"#7e11d1\",\"#8bfa37\"]\n",
    "plt.figure(figsize=(10,8))\n",
    "g = sns.barplot(x=\"name\", y=\"mean\", hue = 'method',data=rad_ai_hit,palette = colorway, order = order_hit)\n",
    "sns.set_style(\"darkgrid\")\n",
    "g.set_xticklabels(task_labels,fontsize=13,rotation=60,ha=\"right\",rotation_mode=\"anchor\")\n",
    "plt.errorbar(np.arange(10)+0.18,hit_diff['human'], yerr=yerrs_vietnam, capsize=5,fmt=' ',c='black')\n",
    "plt.errorbar(np.arange(10)-0.18,hit_diff['gradcam'], yerr=yerrs_gradcam, capsize=5,fmt=' ',c='black')\n",
    "plt.tight_layout()\n",
    "plt.legend(fontsize='xx-large')\n",
    "leg_handles = g.get_legend_handles_labels()[0]\n",
    "g.legend(\"\",frameon=False)\n",
    "# g.legend(leg_handles, ['Grad-CAM', 'Radiologists'],fontsize=13)\n",
    "plt.xlabel('', fontsize=0)\n",
    "plt.ylabel('Hit Rate', fontsize=14)\n",
    "plt.ylim((0,1.1))\n",
    "plt.savefig('fig2/update_figs/ptgame_human_ai.png',dpi = 300)"
   ]
  }
 ],
 "metadata": {
  "kernelspec": {
   "display_name": "Python 3",
   "language": "python",
   "name": "python3"
  },
  "language_info": {
   "codemirror_mode": {
    "name": "ipython",
    "version": 3
   },
   "file_extension": ".py",
   "mimetype": "text/x-python",
   "name": "python",
   "nbconvert_exporter": "python",
   "pygments_lexer": "ipython3",
   "version": "3.7.7"
  }
 },
 "nbformat": 4,
 "nbformat_minor": 4
}
